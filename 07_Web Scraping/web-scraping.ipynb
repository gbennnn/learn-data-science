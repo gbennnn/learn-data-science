{
 "cells": [
  {
   "cell_type": "markdown",
   "metadata": {},
   "source": [
    "# Belajar Web Scraping\n",
    "**Nama:** Benony Gabriel <br>\n",
    "**NIM:** 105222002\n",
    "\n",
    "**Sumber Belajar:** <br>\n",
    "1. Pengenalan <a href=\"https://www.sekawanmedia.co.id/blog/web-scraping/\"> Web Scraping </a>\n",
    "2. Praktek Web Scraping dengan <a href=\"https://www.youtube.com/watch?v=UOsRrxMKJYk\"> Selenium </a>"
   ]
  },
  {
   "cell_type": "markdown",
   "metadata": {},
   "source": [
    "## Pengantar\n",
    "Web scraping berperan penting dalam melakukan riset pasar, kompetitor dan mencari leads. Selain berperan dalam dunia bisnis, web scraping juga memiliki peran di bidang lain seperti dalam pengambilan data, market place dan lainnya. Pada dasarnya, web scraping adalah proses pengambilan sebuah dokumen semi-terstruktur  dari  internet,  umumnya  berupa  halaman-halaman  web  dalam  bahasa  markup  seperti  HTML  atau XHTML,  dan  menganalisis  dokumen  tersebut untuk  diambil data  tertentu  dari  halaman  tersebut  untuk  digunakan  bagi kepentingan  lain,  serta banyak  penelitian yang  menggunakan tools  scraping  untuk mengumpulkan  datanya dari  web. (*Sumber: <a href=\"https://www.sekawanmedia.co.id/blog/web-scraping/\">web-scraping</a>*)"
   ]
  },
  {
   "cell_type": "markdown",
   "metadata": {},
   "source": [
    "### Defenisi Web Scraping\n",
    "Web Scraping adalah teknik untuk mengekstraksi data dari World Wide Web (WWW) dan menyimpannya ke file sistem atau basis data untuk dijadikan analisis data. Web Scraping dapat dilakukan baik secara manual oleh seorang pengguna atau secara otomatis oleh bot atau crawler web. Proses Web Scraping dari Internet dapat dibagi menjadi dua langkah berurutan, yaitu mengakuisisi sumber daya web dan kemudian mengekstraksi informasi yang diinginkan dari data yang diperoleh. Secara khusus, program Web Scraping dimulai dengan meminta HTTP untuk memperoleh sumber daya dari yang ditargetkan oleh situs web. Permintaan ini dapat diformat kedalam URL yang berisi permintaan GET atau HTTP yang berisi POST. (*Sumber: <a href=\"https://www.sekawanmedia.co.id/blog/web-scraping/\">web-scraping</a>*)"
   ]
  },
  {
   "cell_type": "markdown",
   "metadata": {},
   "source": [
    "### Manfaat Web Scraping\n",
    "- Mendapatkan Leads\n",
    "- Mendalami Kebutuhan Konsumen dari Kompetitor\n",
    "- Optimasi Harga Produk maupun Layanan\n",
    "- Mencari Informasi\n",
    "- Memantau Berita dan Konten"
   ]
  },
  {
   "cell_type": "markdown",
   "metadata": {},
   "source": [
    "## Praktek Web Scraping\n",
    "**Web Target:**"
   ]
  },
  {
   "cell_type": "markdown",
   "metadata": {},
   "source": [
    "### Langkah-Langkah:"
   ]
  },
  {
   "cell_type": "markdown",
   "metadata": {},
   "source": [
    "#### 1. Import Library dan Membuat Driver"
   ]
  },
  {
   "cell_type": "markdown",
   "metadata": {},
   "source": [
    "#### 2. Menklik Tombol dengan Selenium"
   ]
  },
  {
   "cell_type": "markdown",
   "metadata": {},
   "source": [
    "#### 3. Extract Data dari Sebuah Tabel"
   ]
  },
  {
   "cell_type": "markdown",
   "metadata": {},
   "source": [
    "#### 4. Export Data to CSV File with Pandas"
   ]
  },
  {
   "cell_type": "markdown",
   "metadata": {},
   "source": [
    "#### 5. Memilih Elemen dalam Dropdown"
   ]
  },
  {
   "cell_type": "markdown",
   "metadata": {},
   "source": [
    "### Kesimpulan"
   ]
  }
 ],
 "metadata": {
  "kernelspec": {
   "display_name": "Python 3",
   "language": "python",
   "name": "python3"
  },
  "language_info": {
   "name": "python",
   "version": "3.13.0"
  }
 },
 "nbformat": 4,
 "nbformat_minor": 2
}
