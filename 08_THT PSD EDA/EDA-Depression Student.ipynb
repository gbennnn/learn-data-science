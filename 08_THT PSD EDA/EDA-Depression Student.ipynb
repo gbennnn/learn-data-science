{
 "cells": [
  {
   "cell_type": "markdown",
   "metadata": {},
   "source": [
    "### Analisis Deskriptif dan Exploratory Data Analysis"
   ]
  },
  {
   "cell_type": "markdown",
   "metadata": {},
   "source": [
    "# **Mengidentifikasi Hubungan Pola Hidup, Tekanan Akademik, dan Depresi di Kalangan Mahasiswa**\n"
   ]
  },
  {
   "cell_type": "markdown",
   "metadata": {},
   "source": [
    "**Oleh:** <br>\n",
    "Benony Gabriel <br>\n",
    "NIM: 105222002"
   ]
  },
  {
   "cell_type": "markdown",
   "metadata": {},
   "source": [
    "**Sumber Data:** <br>\n",
    "Dataset yang digunakan dalam *Exploratory Data Analysis (EDA)*  ini diambil dari Kaggle dengan judul *Depression Student Dataset*. Dataset ini tersedia di tautan berikut: <a href=\"https://www.kaggle.com/datasets/ikynahidwin/depression-student-dataset\">Kaggle - Depression Student Dataset.</a>"
   ]
  },
  {
   "cell_type": "markdown",
   "metadata": {},
   "source": [
    "**Deskripsi Dataset** <br>\n",
    "Dataset ini terdiri dari **502 baris** dan **11 kolom**, dengan detail sebagai berikut:\n",
    "1)\t**Gender**: Jenis kelamin responden (Male/Female)\n",
    "2)\t**Age**: Usia responden (dalam tahun)\n",
    "3)\t**Academic Pressure**: Tingkat tekanan akademik yang dirasakan (skala 1-5)\n",
    "4)\t**Study Satisfaction**: Tingkat kepuasan terhadap kegiatan belajar (skala 1-5)\n",
    "5)\t**Sleep Duration**: Durasi tidur responden (kategori seperti “Less than 5 hours”, “5-6 hours”, “7-8 hours”, “More than 8 hours”).\n",
    "6)\t**Dietary Habits**: Kebiasaan pola makan responden (Healthy, Unhealthy, Moderate).\n",
    "7)\t**Have you ever had suicidal thoughts?**: Pernyataan terkait pemikiran bunuh diri (Yes/No).\n",
    "8)\t**Study Hours**: Jumlah waktu belajar per hari (dalam jam).\n",
    "9)\t**Financial Stress**: Tingkat stres finansial yang dialami (skala 1-5).\n",
    "10)\t**Family History of Mental Illness**: Riwayat kesehatan mental keluarga (Yes/No).\n",
    "11)\t**Depression**: Indikasi apakah responden mengalami depresi (Yes/No).\n"
   ]
  },
  {
   "cell_type": "markdown",
   "metadata": {},
   "source": [
    "# Langkah - Langkah:"
   ]
  },
  {
   "cell_type": "markdown",
   "metadata": {},
   "source": [
    "### **1. Mengimpor Library yang Dibutuhkan**\n",
    "Langkah pertama adalah mengimpor Library Python yang relevan, seperti:\n",
    "- **Pandas**: untuk memproses dan menganalisis data.\n",
    "- **Matplotlib** dan **Seaborn**: untuk membuat visualisasi grafik.\n"
   ]
  },
  {
   "cell_type": "code",
   "execution_count": 1,
   "metadata": {},
   "outputs": [],
   "source": [
    "# Import Library\n",
    "import pandas as pd\n",
    "import matplotlib.pyplot as plt\n",
    "import seaborn as sns\n",
    "\n",
    "# Setting max kolom untuk ditampilkan\n",
    "pd.set_option('display.max_columns', 200)\n",
    "\n",
    "# Mengatur style plot untuk visualisasi\n",
    "plt.style.use('ggplot')"
   ]
  },
  {
   "cell_type": "markdown",
   "metadata": {},
   "source": [
    "### **2. Memuat dan Memeriksa Dataset**\n",
    "Memuat dataset ke dalam Python menggunakan `pandas.read_csv()` dan melakukan pemeriksaan awal:\n",
    "- **`data.info()`**: Menampilkan informasi tentang jumlah kolom, baris, tipe data, dan apakah ada nilai yang hilang.\n",
    "- **`data.head()`**: Menampilkan beberapa baris pertama untuk melihat bagaimana data tersusun.\n"
   ]
  },
  {
   "cell_type": "code",
   "execution_count": 4,
   "metadata": {},
   "outputs": [],
   "source": [
    "# Memuat dataset\n",
    "file_path = 'dataset/Depression_Student_Dataset.csv'\n",
    "data = pd.read_csv(file_path)"
   ]
  },
  {
   "cell_type": "code",
   "execution_count": 5,
   "metadata": {},
   "outputs": [
    {
     "data": {
      "text/plain": [
       "(502, 11)"
      ]
     },
     "execution_count": 5,
     "metadata": {},
     "output_type": "execute_result"
    }
   ],
   "source": [
    "# Melihat banyak baris dan kolom dalam dataset\n",
    "data.shape"
   ]
  },
  {
   "cell_type": "code",
   "execution_count": null,
   "metadata": {},
   "outputs": [],
   "source": []
  },
  {
   "cell_type": "code",
   "execution_count": null,
   "metadata": {},
   "outputs": [],
   "source": []
  },
  {
   "cell_type": "code",
   "execution_count": null,
   "metadata": {},
   "outputs": [],
   "source": []
  }
 ],
 "metadata": {
  "kernelspec": {
   "display_name": "Python 3",
   "language": "python",
   "name": "python3"
  },
  "language_info": {
   "codemirror_mode": {
    "name": "ipython",
    "version": 3
   },
   "file_extension": ".py",
   "mimetype": "text/x-python",
   "name": "python",
   "nbconvert_exporter": "python",
   "pygments_lexer": "ipython3",
   "version": "3.13.0"
  }
 },
 "nbformat": 4,
 "nbformat_minor": 2
}
