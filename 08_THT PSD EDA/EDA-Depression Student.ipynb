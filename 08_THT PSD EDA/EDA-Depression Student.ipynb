{
 "cells": [
  {
   "cell_type": "markdown",
   "metadata": {},
   "source": [
    "### Analisis Deskriptif dan Exploratory Data Analysis"
   ]
  },
  {
   "cell_type": "markdown",
   "metadata": {},
   "source": [
    "# **Mengidentifikasi Hubungan Pola Hidup, Tekanan Akademik, dan Depresi di Kalangan Mahasiswa**\n"
   ]
  },
  {
   "cell_type": "markdown",
   "metadata": {},
   "source": [
    "**Oleh:** <br>\n",
    "Benony Gabriel <br>\n",
    "NIM: 105222002"
   ]
  },
  {
   "cell_type": "markdown",
   "metadata": {},
   "source": [
    "**Sumber Data:** <br>\n",
    "Dataset yang digunakan dalam *Exploratory Data Analysis (EDA)*  ini diambil dari Kaggle dengan judul *Depression Student Dataset*. Dataset ini tersedia di tautan berikut: <a href=\"https://www.kaggle.com/datasets/ikynahidwin/depression-student-dataset\">Kaggle - Depression Student Dataset.</a>"
   ]
  },
  {
   "cell_type": "markdown",
   "metadata": {},
   "source": [
    "**Deskripsi Dataset** <br>\n",
    "Dataset ini terdiri dari **502 baris** dan **11 kolom**, dengan detail sebagai berikut:\n",
    "1)\t**Gender**: Jenis kelamin responden (Male/Female)\n",
    "2)\t**Age**: Usia responden (dalam tahun)\n",
    "3)\t**Academic Pressure**: Tingkat tekanan akademik yang dirasakan (skala 1-5)\n",
    "4)\t**Study Satisfaction**: Tingkat kepuasan terhadap kegiatan belajar (skala 1-5)\n",
    "5)\t**Sleep Duration**: Durasi tidur responden (kategori seperti “Less than 5 hours”, “5-6 hours”, “7-8 hours”, “More than 8 hours”).\n",
    "6)\t**Dietary Habits**: Kebiasaan pola makan responden (Healthy, Unhealthy, Moderate).\n",
    "7)\t**Have you ever had suicidal thoughts?**: Pernyataan terkait pemikiran bunuh diri (Yes/No).\n",
    "8)\t**Study Hours**: Jumlah waktu belajar per hari (dalam jam).\n",
    "9)\t**Financial Stress**: Tingkat stres finansial yang dialami (skala 1-5).\n",
    "10)\t**Family History of Mental Illness**: Riwayat kesehatan mental keluarga (Yes/No).\n",
    "11)\t**Depression**: Indikasi apakah responden mengalami depresi (Yes/No).\n"
   ]
  },
  {
   "cell_type": "markdown",
   "metadata": {},
   "source": [
    "# Langkah - Langkah:"
   ]
  },
  {
   "cell_type": "markdown",
   "metadata": {},
   "source": [
    "### **1. Mengimpor Library yang Dibutuhkan**\n",
    "Langkah pertama adalah mengimpor Library Python yang relevan, seperti:\n",
    "- **Pandas**: untuk memproses dan menganalisis data.\n",
    "- **Matplotlib** dan **Seaborn**: untuk membuat visualisasi grafik.\n"
   ]
  },
  {
   "cell_type": "code",
   "execution_count": 30,
   "metadata": {},
   "outputs": [],
   "source": [
    "# Import Library\n",
    "import pandas as pd\n",
    "import matplotlib.pyplot as plt\n",
    "import seaborn as sns\n",
    "\n",
    "# Setting max kolom untuk ditampilkan\n",
    "pd.set_option('display.max_columns', 200)\n",
    "\n",
    "# Mengatur style plot untuk visualisasi\n",
    "plt.style.use('ggplot')"
   ]
  },
  {
   "cell_type": "markdown",
   "metadata": {},
   "source": [
    "### **2. Memuat dan Memeriksa Dataset**\n",
    "Memuat dataset ke dalam Python menggunakan `pandas.read_csv()` dan melakukan pemeriksaan awal:\n",
    "- **`data.info()`**: Menampilkan informasi tentang jumlah kolom, baris, tipe data, dan apakah ada nilai yang hilang.\n",
    "- **`data.head()`**: Menampilkan beberapa baris pertama untuk melihat bagaimana data tersusun.\n"
   ]
  },
  {
   "cell_type": "code",
   "execution_count": 31,
   "metadata": {},
   "outputs": [],
   "source": [
    "# Memuat dataset\n",
    "file_path = 'dataset/Depression_Student_Dataset.csv'\n",
    "data = pd.read_csv(file_path)"
   ]
  },
  {
   "cell_type": "code",
   "execution_count": 32,
   "metadata": {},
   "outputs": [
    {
     "data": {
      "text/plain": [
       "(502, 11)"
      ]
     },
     "execution_count": 32,
     "metadata": {},
     "output_type": "execute_result"
    }
   ],
   "source": [
    "# Melihat banyak baris dan kolom dalam dataset\n",
    "data.shape"
   ]
  },
  {
   "cell_type": "code",
   "execution_count": 33,
   "metadata": {},
   "outputs": [
    {
     "data": {
      "text/html": [
       "<div>\n",
       "<style scoped>\n",
       "    .dataframe tbody tr th:only-of-type {\n",
       "        vertical-align: middle;\n",
       "    }\n",
       "\n",
       "    .dataframe tbody tr th {\n",
       "        vertical-align: top;\n",
       "    }\n",
       "\n",
       "    .dataframe thead th {\n",
       "        text-align: right;\n",
       "    }\n",
       "</style>\n",
       "<table border=\"1\" class=\"dataframe\">\n",
       "  <thead>\n",
       "    <tr style=\"text-align: right;\">\n",
       "      <th></th>\n",
       "      <th>Gender</th>\n",
       "      <th>Age</th>\n",
       "      <th>Academic Pressure</th>\n",
       "      <th>Study Satisfaction</th>\n",
       "      <th>Sleep Duration</th>\n",
       "      <th>Dietary Habits</th>\n",
       "      <th>Have you ever had suicidal thoughts ?</th>\n",
       "      <th>Study Hours</th>\n",
       "      <th>Financial Stress</th>\n",
       "      <th>Family History of Mental Illness</th>\n",
       "      <th>Depression</th>\n",
       "    </tr>\n",
       "  </thead>\n",
       "  <tbody>\n",
       "    <tr>\n",
       "      <th>0</th>\n",
       "      <td>Male</td>\n",
       "      <td>28</td>\n",
       "      <td>2.0</td>\n",
       "      <td>4.0</td>\n",
       "      <td>7-8 hours</td>\n",
       "      <td>Moderate</td>\n",
       "      <td>Yes</td>\n",
       "      <td>9</td>\n",
       "      <td>2</td>\n",
       "      <td>Yes</td>\n",
       "      <td>No</td>\n",
       "    </tr>\n",
       "    <tr>\n",
       "      <th>1</th>\n",
       "      <td>Male</td>\n",
       "      <td>28</td>\n",
       "      <td>4.0</td>\n",
       "      <td>5.0</td>\n",
       "      <td>5-6 hours</td>\n",
       "      <td>Healthy</td>\n",
       "      <td>Yes</td>\n",
       "      <td>7</td>\n",
       "      <td>1</td>\n",
       "      <td>Yes</td>\n",
       "      <td>No</td>\n",
       "    </tr>\n",
       "    <tr>\n",
       "      <th>2</th>\n",
       "      <td>Male</td>\n",
       "      <td>25</td>\n",
       "      <td>1.0</td>\n",
       "      <td>3.0</td>\n",
       "      <td>5-6 hours</td>\n",
       "      <td>Unhealthy</td>\n",
       "      <td>Yes</td>\n",
       "      <td>10</td>\n",
       "      <td>4</td>\n",
       "      <td>No</td>\n",
       "      <td>Yes</td>\n",
       "    </tr>\n",
       "    <tr>\n",
       "      <th>3</th>\n",
       "      <td>Male</td>\n",
       "      <td>23</td>\n",
       "      <td>1.0</td>\n",
       "      <td>4.0</td>\n",
       "      <td>More than 8 hours</td>\n",
       "      <td>Unhealthy</td>\n",
       "      <td>Yes</td>\n",
       "      <td>7</td>\n",
       "      <td>2</td>\n",
       "      <td>Yes</td>\n",
       "      <td>No</td>\n",
       "    </tr>\n",
       "    <tr>\n",
       "      <th>4</th>\n",
       "      <td>Female</td>\n",
       "      <td>31</td>\n",
       "      <td>1.0</td>\n",
       "      <td>5.0</td>\n",
       "      <td>More than 8 hours</td>\n",
       "      <td>Healthy</td>\n",
       "      <td>Yes</td>\n",
       "      <td>4</td>\n",
       "      <td>2</td>\n",
       "      <td>Yes</td>\n",
       "      <td>No</td>\n",
       "    </tr>\n",
       "  </tbody>\n",
       "</table>\n",
       "</div>"
      ],
      "text/plain": [
       "   Gender  Age  Academic Pressure  Study Satisfaction     Sleep Duration  \\\n",
       "0    Male   28                2.0                 4.0          7-8 hours   \n",
       "1    Male   28                4.0                 5.0          5-6 hours   \n",
       "2    Male   25                1.0                 3.0          5-6 hours   \n",
       "3    Male   23                1.0                 4.0  More than 8 hours   \n",
       "4  Female   31                1.0                 5.0  More than 8 hours   \n",
       "\n",
       "  Dietary Habits Have you ever had suicidal thoughts ?  Study Hours  \\\n",
       "0       Moderate                                   Yes            9   \n",
       "1        Healthy                                   Yes            7   \n",
       "2      Unhealthy                                   Yes           10   \n",
       "3      Unhealthy                                   Yes            7   \n",
       "4        Healthy                                   Yes            4   \n",
       "\n",
       "   Financial Stress Family History of Mental Illness Depression  \n",
       "0                 2                              Yes         No  \n",
       "1                 1                              Yes         No  \n",
       "2                 4                               No        Yes  \n",
       "3                 2                              Yes         No  \n",
       "4                 2                              Yes         No  "
      ]
     },
     "execution_count": 33,
     "metadata": {},
     "output_type": "execute_result"
    }
   ],
   "source": [
    "# Melihat 5 baris awal dari dataset\n",
    "data.head()"
   ]
  },
  {
   "cell_type": "markdown",
   "metadata": {},
   "source": [
    "### **3. Data Understanding**\n",
    "Sebelum melakukan analisis lebih rinci, penting untuk memahami struktur dataset.\n",
    "- **`data.shape`**: Menampilkan jumlah kolom dan baris.\n",
    "- **`data.info()`**: Menampilkan informasi tentang jumlah kolom, baris, tipe data, dan apakah ada nilai yang hilang.\n",
    "- **`data.head()`**: Menampilkan beberapa baris pertama untuk melihat bagaimana data tersusun.\n",
    "- **`data.dtypes`**: Menunjukkan tipe data (data types) dari setiap kolom dalam sebuah DataFrame Pandas.\n",
    "- **`data.describe()`**: Adalah metode Pandas yang memberikan statistik deskriptif dari kolom numerik dan, dengan beberapa parameter tambahan, juga bisa memberikan statistik deskriptif dari kolom kategorikal."
   ]
  },
  {
   "cell_type": "code",
   "execution_count": 34,
   "metadata": {},
   "outputs": [
    {
     "data": {
      "text/plain": [
       "Gender                                    object\n",
       "Age                                        int64\n",
       "Academic Pressure                        float64\n",
       "Study Satisfaction                       float64\n",
       "Sleep Duration                            object\n",
       "Dietary Habits                            object\n",
       "Have you ever had suicidal thoughts ?     object\n",
       "Study Hours                                int64\n",
       "Financial Stress                           int64\n",
       "Family History of Mental Illness          object\n",
       "Depression                                object\n",
       "dtype: object"
      ]
     },
     "execution_count": 34,
     "metadata": {},
     "output_type": "execute_result"
    }
   ],
   "source": [
    "# Melihat tipe data setiap kolom\n",
    "data.dtypes"
   ]
  },
  {
   "cell_type": "code",
   "execution_count": 35,
   "metadata": {},
   "outputs": [
    {
     "name": "stdout",
     "output_type": "stream",
     "text": [
      "<class 'pandas.core.frame.DataFrame'>\n",
      "RangeIndex: 502 entries, 0 to 501\n",
      "Data columns (total 11 columns):\n",
      " #   Column                                 Non-Null Count  Dtype  \n",
      "---  ------                                 --------------  -----  \n",
      " 0   Gender                                 502 non-null    object \n",
      " 1   Age                                    502 non-null    int64  \n",
      " 2   Academic Pressure                      502 non-null    float64\n",
      " 3   Study Satisfaction                     502 non-null    float64\n",
      " 4   Sleep Duration                         502 non-null    object \n",
      " 5   Dietary Habits                         502 non-null    object \n",
      " 6   Have you ever had suicidal thoughts ?  502 non-null    object \n",
      " 7   Study Hours                            502 non-null    int64  \n",
      " 8   Financial Stress                       502 non-null    int64  \n",
      " 9   Family History of Mental Illness       502 non-null    object \n",
      " 10  Depression                             502 non-null    object \n",
      "dtypes: float64(2), int64(3), object(6)\n",
      "memory usage: 43.3+ KB\n"
     ]
    }
   ],
   "source": [
    "# Informasi dasar tentang dataset\n",
    "data.info()"
   ]
  },
  {
   "cell_type": "code",
   "execution_count": 36,
   "metadata": {},
   "outputs": [
    {
     "data": {
      "text/html": [
       "<div>\n",
       "<style scoped>\n",
       "    .dataframe tbody tr th:only-of-type {\n",
       "        vertical-align: middle;\n",
       "    }\n",
       "\n",
       "    .dataframe tbody tr th {\n",
       "        vertical-align: top;\n",
       "    }\n",
       "\n",
       "    .dataframe thead th {\n",
       "        text-align: right;\n",
       "    }\n",
       "</style>\n",
       "<table border=\"1\" class=\"dataframe\">\n",
       "  <thead>\n",
       "    <tr style=\"text-align: right;\">\n",
       "      <th></th>\n",
       "      <th>Age</th>\n",
       "      <th>Academic Pressure</th>\n",
       "      <th>Study Satisfaction</th>\n",
       "      <th>Study Hours</th>\n",
       "      <th>Financial Stress</th>\n",
       "    </tr>\n",
       "  </thead>\n",
       "  <tbody>\n",
       "    <tr>\n",
       "      <th>count</th>\n",
       "      <td>502.000000</td>\n",
       "      <td>502.000000</td>\n",
       "      <td>502.000000</td>\n",
       "      <td>502.000000</td>\n",
       "      <td>502.000000</td>\n",
       "    </tr>\n",
       "    <tr>\n",
       "      <th>mean</th>\n",
       "      <td>26.241036</td>\n",
       "      <td>3.003984</td>\n",
       "      <td>3.075697</td>\n",
       "      <td>6.404382</td>\n",
       "      <td>2.928287</td>\n",
       "    </tr>\n",
       "    <tr>\n",
       "      <th>std</th>\n",
       "      <td>4.896501</td>\n",
       "      <td>1.390007</td>\n",
       "      <td>1.373490</td>\n",
       "      <td>3.742434</td>\n",
       "      <td>1.425053</td>\n",
       "    </tr>\n",
       "    <tr>\n",
       "      <th>min</th>\n",
       "      <td>18.000000</td>\n",
       "      <td>1.000000</td>\n",
       "      <td>1.000000</td>\n",
       "      <td>0.000000</td>\n",
       "      <td>1.000000</td>\n",
       "    </tr>\n",
       "    <tr>\n",
       "      <th>25%</th>\n",
       "      <td>22.000000</td>\n",
       "      <td>2.000000</td>\n",
       "      <td>2.000000</td>\n",
       "      <td>3.000000</td>\n",
       "      <td>2.000000</td>\n",
       "    </tr>\n",
       "    <tr>\n",
       "      <th>50%</th>\n",
       "      <td>26.500000</td>\n",
       "      <td>3.000000</td>\n",
       "      <td>3.000000</td>\n",
       "      <td>7.000000</td>\n",
       "      <td>3.000000</td>\n",
       "    </tr>\n",
       "    <tr>\n",
       "      <th>75%</th>\n",
       "      <td>30.000000</td>\n",
       "      <td>4.000000</td>\n",
       "      <td>4.000000</td>\n",
       "      <td>10.000000</td>\n",
       "      <td>4.000000</td>\n",
       "    </tr>\n",
       "    <tr>\n",
       "      <th>max</th>\n",
       "      <td>34.000000</td>\n",
       "      <td>5.000000</td>\n",
       "      <td>5.000000</td>\n",
       "      <td>12.000000</td>\n",
       "      <td>5.000000</td>\n",
       "    </tr>\n",
       "  </tbody>\n",
       "</table>\n",
       "</div>"
      ],
      "text/plain": [
       "              Age  Academic Pressure  Study Satisfaction  Study Hours  \\\n",
       "count  502.000000         502.000000          502.000000   502.000000   \n",
       "mean    26.241036           3.003984            3.075697     6.404382   \n",
       "std      4.896501           1.390007            1.373490     3.742434   \n",
       "min     18.000000           1.000000            1.000000     0.000000   \n",
       "25%     22.000000           2.000000            2.000000     3.000000   \n",
       "50%     26.500000           3.000000            3.000000     7.000000   \n",
       "75%     30.000000           4.000000            4.000000    10.000000   \n",
       "max     34.000000           5.000000            5.000000    12.000000   \n",
       "\n",
       "       Financial Stress  \n",
       "count        502.000000  \n",
       "mean           2.928287  \n",
       "std            1.425053  \n",
       "min            1.000000  \n",
       "25%            2.000000  \n",
       "50%            3.000000  \n",
       "75%            4.000000  \n",
       "max            5.000000  "
      ]
     },
     "execution_count": 36,
     "metadata": {},
     "output_type": "execute_result"
    }
   ],
   "source": [
    "# Statistik ringkasan dari dataset\n",
    "data.describe()"
   ]
  },
  {
   "cell_type": "markdown",
   "metadata": {},
   "source": [
    "### **4. Preprocessing Data / Data Cleaning**\n",
    "Tujuannya adalah untuk melakukan pembersihan terhadap data sebelum ke tahapan analisis\n",
    "- Memeriksa apakah ada data yang hilang dan menangani nilai kosong (missing values).\n",
    "- Mendeteksi Outliers\n",
    "- Menghapus kolom/baris yang memiliki banyak nilai kosong (missing values).\n",
    "- Mengisi nilai kosong dengan nilai tertentu seperti median atau rata-rata (missing values).\n",
    "- Menghapus kolom-kolom yang tidak dibutuhkan"
   ]
  },
  {
   "cell_type": "code",
   "execution_count": 37,
   "metadata": {},
   "outputs": [
    {
     "data": {
      "text/plain": [
       "Index(['Gender', 'Age', 'Academic Pressure', 'Study Satisfaction',\n",
       "       'Sleep Duration', 'Dietary Habits',\n",
       "       'Have you ever had suicidal thoughts ?', 'Study Hours',\n",
       "       'Financial Stress', 'Family History of Mental Illness', 'Depression'],\n",
       "      dtype='object')"
      ]
     },
     "execution_count": 37,
     "metadata": {},
     "output_type": "execute_result"
    }
   ],
   "source": [
    "# Memeriksa kolom dalam dataset\n",
    "data.columns"
   ]
  },
  {
   "cell_type": "code",
   "execution_count": 38,
   "metadata": {},
   "outputs": [
    {
     "data": {
      "text/html": [
       "<div>\n",
       "<style scoped>\n",
       "    .dataframe tbody tr th:only-of-type {\n",
       "        vertical-align: middle;\n",
       "    }\n",
       "\n",
       "    .dataframe tbody tr th {\n",
       "        vertical-align: top;\n",
       "    }\n",
       "\n",
       "    .dataframe thead th {\n",
       "        text-align: right;\n",
       "    }\n",
       "</style>\n",
       "<table border=\"1\" class=\"dataframe\">\n",
       "  <thead>\n",
       "    <tr style=\"text-align: right;\">\n",
       "      <th></th>\n",
       "      <th>Gender</th>\n",
       "      <th>Age</th>\n",
       "      <th>Academic Pressure</th>\n",
       "      <th>Study Satisfaction</th>\n",
       "      <th>Sleep Duration</th>\n",
       "      <th>Dietary Habits</th>\n",
       "      <th>Have you ever had suicidal thoughts ?</th>\n",
       "      <th>Study Hours</th>\n",
       "      <th>Financial Stress</th>\n",
       "      <th>Family History of Mental Illness</th>\n",
       "      <th>Depression</th>\n",
       "    </tr>\n",
       "  </thead>\n",
       "  <tbody>\n",
       "    <tr>\n",
       "      <th>497</th>\n",
       "      <td>Male</td>\n",
       "      <td>26</td>\n",
       "      <td>5.0</td>\n",
       "      <td>2.0</td>\n",
       "      <td>More than 8 hours</td>\n",
       "      <td>Unhealthy</td>\n",
       "      <td>No</td>\n",
       "      <td>8</td>\n",
       "      <td>3</td>\n",
       "      <td>No</td>\n",
       "      <td>Yes</td>\n",
       "    </tr>\n",
       "    <tr>\n",
       "      <th>498</th>\n",
       "      <td>Male</td>\n",
       "      <td>24</td>\n",
       "      <td>2.0</td>\n",
       "      <td>1.0</td>\n",
       "      <td>Less than 5 hours</td>\n",
       "      <td>Unhealthy</td>\n",
       "      <td>Yes</td>\n",
       "      <td>8</td>\n",
       "      <td>5</td>\n",
       "      <td>No</td>\n",
       "      <td>Yes</td>\n",
       "    </tr>\n",
       "    <tr>\n",
       "      <th>499</th>\n",
       "      <td>Female</td>\n",
       "      <td>23</td>\n",
       "      <td>3.0</td>\n",
       "      <td>5.0</td>\n",
       "      <td>5-6 hours</td>\n",
       "      <td>Healthy</td>\n",
       "      <td>No</td>\n",
       "      <td>1</td>\n",
       "      <td>5</td>\n",
       "      <td>Yes</td>\n",
       "      <td>No</td>\n",
       "    </tr>\n",
       "    <tr>\n",
       "      <th>500</th>\n",
       "      <td>Male</td>\n",
       "      <td>33</td>\n",
       "      <td>4.0</td>\n",
       "      <td>4.0</td>\n",
       "      <td>More than 8 hours</td>\n",
       "      <td>Healthy</td>\n",
       "      <td>No</td>\n",
       "      <td>8</td>\n",
       "      <td>1</td>\n",
       "      <td>Yes</td>\n",
       "      <td>No</td>\n",
       "    </tr>\n",
       "    <tr>\n",
       "      <th>501</th>\n",
       "      <td>Male</td>\n",
       "      <td>18</td>\n",
       "      <td>5.0</td>\n",
       "      <td>3.0</td>\n",
       "      <td>More than 8 hours</td>\n",
       "      <td>Unhealthy</td>\n",
       "      <td>No</td>\n",
       "      <td>6</td>\n",
       "      <td>2</td>\n",
       "      <td>Yes</td>\n",
       "      <td>Yes</td>\n",
       "    </tr>\n",
       "  </tbody>\n",
       "</table>\n",
       "</div>"
      ],
      "text/plain": [
       "     Gender  Age  Academic Pressure  Study Satisfaction     Sleep Duration  \\\n",
       "497    Male   26                5.0                 2.0  More than 8 hours   \n",
       "498    Male   24                2.0                 1.0  Less than 5 hours   \n",
       "499  Female   23                3.0                 5.0          5-6 hours   \n",
       "500    Male   33                4.0                 4.0  More than 8 hours   \n",
       "501    Male   18                5.0                 3.0  More than 8 hours   \n",
       "\n",
       "    Dietary Habits Have you ever had suicidal thoughts ?  Study Hours  \\\n",
       "497      Unhealthy                                    No            8   \n",
       "498      Unhealthy                                   Yes            8   \n",
       "499        Healthy                                    No            1   \n",
       "500        Healthy                                    No            8   \n",
       "501      Unhealthy                                    No            6   \n",
       "\n",
       "     Financial Stress Family History of Mental Illness Depression  \n",
       "497                 3                               No        Yes  \n",
       "498                 5                               No        Yes  \n",
       "499                 5                              Yes         No  \n",
       "500                 1                              Yes         No  \n",
       "501                 2                              Yes        Yes  "
      ]
     },
     "execution_count": 38,
     "metadata": {},
     "output_type": "execute_result"
    }
   ],
   "source": [
    "# Melihat 5 baris terakhir dari data\n",
    "data.tail()"
   ]
  },
  {
   "cell_type": "code",
   "execution_count": 39,
   "metadata": {},
   "outputs": [
    {
     "data": {
      "text/plain": [
       "Gender                                   0\n",
       "Age                                      0\n",
       "Academic Pressure                        0\n",
       "Study Satisfaction                       0\n",
       "Sleep Duration                           0\n",
       "Dietary Habits                           0\n",
       "Have you ever had suicidal thoughts ?    0\n",
       "Study Hours                              0\n",
       "Financial Stress                         0\n",
       "Family History of Mental Illness         0\n",
       "Depression                               0\n",
       "dtype: int64"
      ]
     },
     "execution_count": 39,
     "metadata": {},
     "output_type": "execute_result"
    }
   ],
   "source": [
    "# Mengecek missing values\n",
    "data.isna().sum() # Hasil 0 berarti tidak ada missing values"
   ]
  },
  {
   "cell_type": "code",
   "execution_count": 40,
   "metadata": {},
   "outputs": [
    {
     "data": {
      "text/plain": [
       "0      False\n",
       "1      False\n",
       "2      False\n",
       "3      False\n",
       "4      False\n",
       "       ...  \n",
       "497    False\n",
       "498    False\n",
       "499    False\n",
       "500    False\n",
       "501    False\n",
       "Length: 502, dtype: bool"
      ]
     },
     "execution_count": 40,
     "metadata": {},
     "output_type": "execute_result"
    }
   ],
   "source": [
    "# Mengecek apakah ada data yang duplikat\n",
    "data.duplicated()"
   ]
  },
  {
   "cell_type": "code",
   "execution_count": 41,
   "metadata": {},
   "outputs": [
    {
     "data": {
      "text/html": [
       "<div>\n",
       "<style scoped>\n",
       "    .dataframe tbody tr th:only-of-type {\n",
       "        vertical-align: middle;\n",
       "    }\n",
       "\n",
       "    .dataframe tbody tr th {\n",
       "        vertical-align: top;\n",
       "    }\n",
       "\n",
       "    .dataframe thead th {\n",
       "        text-align: right;\n",
       "    }\n",
       "</style>\n",
       "<table border=\"1\" class=\"dataframe\">\n",
       "  <thead>\n",
       "    <tr style=\"text-align: right;\">\n",
       "      <th></th>\n",
       "      <th>Gender</th>\n",
       "      <th>Age</th>\n",
       "      <th>Academic Pressure</th>\n",
       "      <th>Study Satisfaction</th>\n",
       "      <th>Sleep Duration</th>\n",
       "      <th>Dietary Habits</th>\n",
       "      <th>Have you ever had suicidal thoughts ?</th>\n",
       "      <th>Study Hours</th>\n",
       "      <th>Financial Stress</th>\n",
       "      <th>Family History of Mental Illness</th>\n",
       "      <th>Depression</th>\n",
       "    </tr>\n",
       "  </thead>\n",
       "  <tbody>\n",
       "  </tbody>\n",
       "</table>\n",
       "</div>"
      ],
      "text/plain": [
       "Empty DataFrame\n",
       "Columns: [Gender, Age, Academic Pressure, Study Satisfaction, Sleep Duration, Dietary Habits, Have you ever had suicidal thoughts ?, Study Hours, Financial Stress, Family History of Mental Illness, Depression]\n",
       "Index: []"
      ]
     },
     "execution_count": 41,
     "metadata": {},
     "output_type": "execute_result"
    }
   ],
   "source": [
    "# Menemukan lokasi data duplikat\n",
    "data.loc[data.duplicated()]"
   ]
  },
  {
   "cell_type": "code",
   "execution_count": null,
   "metadata": {},
   "outputs": [],
   "source": [
    "# Mendeteksi outlier menggunakan metode IQR untuk kolom numerik\n",
    "def detect_outliers_iqr(data, column):\n",
    "    Q1 = data[column].quantile(0.25)\n",
    "    Q3 = data[column].quantile(0.75)\n",
    "    IQR = Q3 - Q1\n",
    "    lower_bound = Q1 - 1.5 * IQR\n",
    "    upper_bound = Q3 + 1.5 * IQR\n",
    "    return data[(data[column] < lower_bound) | (data[column] > upper_bound)], lower_bound, upper_bound"
   ]
  },
  {
   "cell_type": "code",
   "execution_count": null,
   "metadata": {},
   "outputs": [],
   "source": [
    "# Pilih kolom numerik untuk dianalisis\n",
    "numeric_columns = ['Age', 'Academic Pressure', 'Study Satisfaction', 'Study Hours', 'Financial Stress']"
   ]
  },
  {
   "cell_type": "code",
   "execution_count": null,
   "metadata": {},
   "outputs": [],
   "source": [
    "# Mendeteksi outlier untuk setiap kolom numerik dan meringkas hasilnya\n",
    "outliers_summary = {}\n",
    "outlier_counts = {}\n",
    "for col in numeric_columns:\n",
    "    outliers, lower, upper = detect_outliers_iqr(data, col)\n",
    "    outliers_summary[col] = {\n",
    "        'Outliers': len(outliers),\n",
    "        'Lower Bound': lower,\n",
    "        'Upper Bound': upper\n",
    "    }\n",
    "    outlier_counts[col] = len(outliers)"
   ]
  },
  {
   "cell_type": "code",
   "execution_count": null,
   "metadata": {},
   "outputs": [
    {
     "data": {
      "text/plain": [
       "{'Age': {'Outliers': 0,\n",
       "  'Lower Bound': np.float64(10.0),\n",
       "  'Upper Bound': np.float64(42.0)},\n",
       " 'Academic Pressure': {'Outliers': 0,\n",
       "  'Lower Bound': np.float64(-1.0),\n",
       "  'Upper Bound': np.float64(7.0)},\n",
       " 'Study Satisfaction': {'Outliers': 0,\n",
       "  'Lower Bound': np.float64(-1.0),\n",
       "  'Upper Bound': np.float64(7.0)},\n",
       " 'Study Hours': {'Outliers': 0,\n",
       "  'Lower Bound': np.float64(-7.5),\n",
       "  'Upper Bound': np.float64(20.5)},\n",
       " 'Financial Stress': {'Outliers': 0,\n",
       "  'Lower Bound': np.float64(-1.0),\n",
       "  'Upper Bound': np.float64(7.0)}}"
      ]
     },
     "execution_count": 45,
     "metadata": {},
     "output_type": "execute_result"
    }
   ],
   "source": [
    "# Mengembalikan ringkasan deteksi outlier untuk ditinjau\n",
    "outliers_summary"
   ]
  },
  {
   "cell_type": "code",
   "execution_count": null,
   "metadata": {},
   "outputs": [
    {
     "data": {
      "image/png": "[encoded data removed]",
      "text/plain": [
       "<Figure size 1200x600 with 1 Axes>"
      ]
     },
     "metadata": {},
     "output_type": "display_data"
    }
   ],
   "source": [
    "# Visualisasikan outlier menggunakan boxplot\n",
    "plt.figure(figsize=(12, 6))\n",
    "sns.boxplot(data=data[numeric_columns], orient=\"h\", palette=\"Set2\")\n",
    "plt.title(\"Boxplot for Numerical Features to Detect Outliers (IQR Method)\")\n",
    "plt.xlabel(\"Value Range\")\n",
    "plt.ylabel(\"Features\")\n",
    "plt.tight_layout()\n",
    "plt.show()\n"
   ]
  },
  {
   "cell_type": "markdown",
   "metadata": {},
   "source": [
    "### **5. Melakukan Analisis Statistik Deskriptif**\n",
    "Saya akan menghitung ukuran statistik utama seperti mean, median, mode, standar deviasi, dan persentil untuk kolom-kolom numerik yang penting.<br>\n",
    "Menghitung statistik dasar untuk mendapatkan gambaran umum tentang data:\n",
    "- **Mean (Rata-rata)**: Nilai rata-rata dari data.\n",
    "- **Median**: Nilai tengah dari data.\n",
    "- **Mode (Modus)**: Nilai yang paling sering muncul.\n",
    "- **Standar Deviasi**: Untuk melihat variasi atau penyebaran data.\n",
    "- **Min dan Max**: Nilai minimum dan maksimum dalam data.\n",
    "- **Persentil dan Kuartil**: Pembagian data ke dalam bagian yang lebih kecil.\n"
   ]
  },
  {
   "cell_type": "code",
   "execution_count": 48,
   "metadata": {},
   "outputs": [
    {
     "data": {
      "text/html": [
       "<div>\n",
       "<style scoped>\n",
       "    .dataframe tbody tr th:only-of-type {\n",
       "        vertical-align: middle;\n",
       "    }\n",
       "\n",
       "    .dataframe tbody tr th {\n",
       "        vertical-align: top;\n",
       "    }\n",
       "\n",
       "    .dataframe thead th {\n",
       "        text-align: right;\n",
       "    }\n",
       "</style>\n",
       "<table border=\"1\" class=\"dataframe\">\n",
       "  <thead>\n",
       "    <tr style=\"text-align: right;\">\n",
       "      <th></th>\n",
       "      <th>count</th>\n",
       "      <th>mean</th>\n",
       "      <th>std</th>\n",
       "      <th>min</th>\n",
       "      <th>25%</th>\n",
       "      <th>50%</th>\n",
       "      <th>75%</th>\n",
       "      <th>max</th>\n",
       "      <th>mode</th>\n",
       "    </tr>\n",
       "  </thead>\n",
       "  <tbody>\n",
       "    <tr>\n",
       "      <th>Age</th>\n",
       "      <td>502.0</td>\n",
       "      <td>26.241036</td>\n",
       "      <td>4.896501</td>\n",
       "      <td>18.0</td>\n",
       "      <td>22.0</td>\n",
       "      <td>26.5</td>\n",
       "      <td>30.0</td>\n",
       "      <td>34.0</td>\n",
       "      <td>28.0</td>\n",
       "    </tr>\n",
       "    <tr>\n",
       "      <th>Academic Pressure</th>\n",
       "      <td>502.0</td>\n",
       "      <td>3.003984</td>\n",
       "      <td>1.390007</td>\n",
       "      <td>1.0</td>\n",
       "      <td>2.0</td>\n",
       "      <td>3.0</td>\n",
       "      <td>4.0</td>\n",
       "      <td>5.0</td>\n",
       "      <td>3.0</td>\n",
       "    </tr>\n",
       "    <tr>\n",
       "      <th>Study Satisfaction</th>\n",
       "      <td>502.0</td>\n",
       "      <td>3.075697</td>\n",
       "      <td>1.373490</td>\n",
       "      <td>1.0</td>\n",
       "      <td>2.0</td>\n",
       "      <td>3.0</td>\n",
       "      <td>4.0</td>\n",
       "      <td>5.0</td>\n",
       "      <td>4.0</td>\n",
       "    </tr>\n",
       "    <tr>\n",
       "      <th>Study Hours</th>\n",
       "      <td>502.0</td>\n",
       "      <td>6.404382</td>\n",
       "      <td>3.742434</td>\n",
       "      <td>0.0</td>\n",
       "      <td>3.0</td>\n",
       "      <td>7.0</td>\n",
       "      <td>10.0</td>\n",
       "      <td>12.0</td>\n",
       "      <td>10.0</td>\n",
       "    </tr>\n",
       "    <tr>\n",
       "      <th>Financial Stress</th>\n",
       "      <td>502.0</td>\n",
       "      <td>2.928287</td>\n",
       "      <td>1.425053</td>\n",
       "      <td>1.0</td>\n",
       "      <td>2.0</td>\n",
       "      <td>3.0</td>\n",
       "      <td>4.0</td>\n",
       "      <td>5.0</td>\n",
       "      <td>1.0</td>\n",
       "    </tr>\n",
       "  </tbody>\n",
       "</table>\n",
       "</div>"
      ],
      "text/plain": [
       "                    count       mean       std   min   25%   50%   75%   max  \\\n",
       "Age                 502.0  26.241036  4.896501  18.0  22.0  26.5  30.0  34.0   \n",
       "Academic Pressure   502.0   3.003984  1.390007   1.0   2.0   3.0   4.0   5.0   \n",
       "Study Satisfaction  502.0   3.075697  1.373490   1.0   2.0   3.0   4.0   5.0   \n",
       "Study Hours         502.0   6.404382  3.742434   0.0   3.0   7.0  10.0  12.0   \n",
       "Financial Stress    502.0   2.928287  1.425053   1.0   2.0   3.0   4.0   5.0   \n",
       "\n",
       "                    mode  \n",
       "Age                 28.0  \n",
       "Academic Pressure    3.0  \n",
       "Study Satisfaction   4.0  \n",
       "Study Hours         10.0  \n",
       "Financial Stress     1.0  "
      ]
     },
     "execution_count": 48,
     "metadata": {},
     "output_type": "execute_result"
    }
   ],
   "source": [
    "# Memilih kolom numerik untuk analisis statistik\n",
    "numerical_columns = ['Age', 'Academic Pressure', 'Study Satisfaction', \n",
    "                     'Study Hours', 'Financial Stress']\n",
    "\n",
    "# Statistik deskriptif: mean, median, std, dll.\n",
    "statistics = data[numerical_columns].describe(percentiles=[0.25, 0.5, 0.75]).T\n",
    "\n",
    "# Menghitung mode untuk setiap kolom numerik\n",
    "mode_values = data[numerical_columns].mode().iloc[0]\n",
    "\n",
    "# Menambahkan nilai mode ke statistik\n",
    "statistics['mode'] = mode_values\n",
    "\n",
    "# Menampilkan statistik\n",
    "statistics\n"
   ]
  },
  {
   "cell_type": "markdown",
   "metadata": {},
   "source": [
    "Berikut adalah kesimpulan yang dapat diambil berdasarkan hasil analisis statistik deskriptif diatas:\n",
    "\n",
    "1. **Usia (Age)**:\n",
    "   - Rata-rata usia mahasiswa adalah **26 tahun**, dengan rentang usia dari **18 tahun** hingga **34 tahun**.\n",
    "   - Sebagian besar mahasiswa berusia sekitar **28 tahun** (mode).\n",
    "   - Distribusi usia cukup tersebar, terlihat dari standar deviasi sebesar **4.89**, menunjukkan variasi usia mahasiswa.\n",
    "\n",
    "2. **Tekanan Akademik (Academic Pressure)**:\n",
    "   - Rata-rata tekanan akademik berada di angka **3.00** (skala 1–5), menunjukkan tingkat tekanan yang moderat.\n",
    "   - Mode di angka **3** mengindikasikan bahwa mayoritas mahasiswa merasakan tingkat tekanan akademik pada level ini.\n",
    "   - Tekanan akademik minimum adalah **1**, sedangkan maksimum mencapai **5**, yang menunjukkan beberapa mahasiswa mengalami tekanan yang sangat tinggi.\n",
    "\n",
    "3. **Kepuasan Belajar (Study Satisfaction)**:\n",
    "   - Rata-rata kepuasan belajar mahasiswa adalah **3.08**, dengan mode sebesar **4**, menunjukkan sebagian besar mahasiswa merasa cukup puas dengan aktivitas belajarnya.\n",
    "   - Standar deviasi sebesar **1.37** menunjukkan variasi moderat dalam tingkat kepuasan belajar.\n",
    "\n",
    "4. **Jam Belajar (Study Hours)**:\n",
    "   - Rata-rata jam belajar mahasiswa adalah **6.40 jam per hari**, dengan distribusi yang cukup luas, dari **0 jam** hingga **12 jam per hari**.\n",
    "   - Mode berada di angka **10**, menunjukkan bahwa beberapa mahasiswa belajar selama 10 jam per hari, yang tergolong tinggi.\n",
    "   - Standar deviasi **3.74** menunjukkan perbedaan besar antar mahasiswa dalam alokasi waktu belajar.\n",
    "\n",
    "5. **Stres Finansial (Financial Stress)**:\n",
    "   - Rata-rata tingkat stres finansial berada di angka **2.93**, menunjukkan tingkat moderat, dengan mode di angka **1**, yang berarti sebagian besar mahasiswa melaporkan tingkat stres finansial yang rendah.\n",
    "   - Rentang stres finansial adalah dari **1** (minimum) hingga **5** (maksimum), menunjukkan adanya mahasiswa dengan tingkat stres yang sangat tinggi."
   ]
  },
  {
   "cell_type": "code",
   "execution_count": null,
   "metadata": {},
   "outputs": [],
   "source": []
  },
  {
   "cell_type": "code",
   "execution_count": null,
   "metadata": {},
   "outputs": [],
   "source": []
  },
  {
   "cell_type": "code",
   "execution_count": null,
   "metadata": {},
   "outputs": [],
   "source": []
  },
  {
   "cell_type": "code",
   "execution_count": null,
   "metadata": {},
   "outputs": [],
   "source": []
  },
  {
   "cell_type": "code",
   "execution_count": null,
   "metadata": {},
   "outputs": [],
   "source": []
  },
  {
   "cell_type": "code",
   "execution_count": null,
   "metadata": {},
   "outputs": [],
   "source": []
  },
  {
   "cell_type": "code",
   "execution_count": null,
   "metadata": {},
   "outputs": [],
   "source": []
  }
 ],
 "metadata": {
  "kernelspec": {
   "display_name": "Python 3",
   "language": "python",
   "name": "python3"
  },
  "language_info": {
   "codemirror_mode": {
    "name": "ipython",
    "version": 3
   },
   "file_extension": ".py",
   "mimetype": "text/x-python",
   "name": "python",
   "nbconvert_exporter": "python",
   "pygments_lexer": "ipython3",
   "version": "3.13.0"
  }
 },
 "nbformat": 4,
 "nbformat_minor": 2
}
