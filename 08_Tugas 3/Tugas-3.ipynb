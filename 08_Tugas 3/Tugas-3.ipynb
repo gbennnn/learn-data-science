{
 "cells": [
  {
   "cell_type": "markdown",
   "metadata": {},
   "source": [
    "## Langkah 0: Memuat Dataset"
   ]
  },
  {
   "cell_type": "code",
   "execution_count": 23,
   "metadata": {},
   "outputs": [],
   "source": [
    "import pandas as pd\n",
    "\n",
    "file_path = 'dataset/data_seluler.csv'\n",
    "data = pd.read_csv(file_path)"
   ]
  },
  {
   "cell_type": "code",
   "execution_count": 24,
   "metadata": {},
   "outputs": [
    {
     "data": {
      "text/plain": [
       "(2000, 21)"
      ]
     },
     "execution_count": 24,
     "metadata": {},
     "output_type": "execute_result"
    }
   ],
   "source": [
    "data.shape"
   ]
  },
  {
   "cell_type": "code",
   "execution_count": 25,
   "metadata": {},
   "outputs": [
    {
     "data": {
      "text/html": [
       "<div>\n",
       "<style scoped>\n",
       "    .dataframe tbody tr th:only-of-type {\n",
       "        vertical-align: middle;\n",
       "    }\n",
       "\n",
       "    .dataframe tbody tr th {\n",
       "        vertical-align: top;\n",
       "    }\n",
       "\n",
       "    .dataframe thead th {\n",
       "        text-align: right;\n",
       "    }\n",
       "</style>\n",
       "<table border=\"1\" class=\"dataframe\">\n",
       "  <thead>\n",
       "    <tr style=\"text-align: right;\">\n",
       "      <th></th>\n",
       "      <th>battery_power</th>\n",
       "      <th>blue</th>\n",
       "      <th>clock_speed</th>\n",
       "      <th>dual_sim</th>\n",
       "      <th>fc</th>\n",
       "      <th>four_g</th>\n",
       "      <th>int_memory</th>\n",
       "      <th>m_dep</th>\n",
       "      <th>mobile_wt</th>\n",
       "      <th>n_cores</th>\n",
       "      <th>...</th>\n",
       "      <th>px_height</th>\n",
       "      <th>px_width</th>\n",
       "      <th>ram</th>\n",
       "      <th>sc_h</th>\n",
       "      <th>sc_w</th>\n",
       "      <th>talk_time</th>\n",
       "      <th>three_g</th>\n",
       "      <th>touch_screen</th>\n",
       "      <th>wifi</th>\n",
       "      <th>price_class</th>\n",
       "    </tr>\n",
       "  </thead>\n",
       "  <tbody>\n",
       "    <tr>\n",
       "      <th>0</th>\n",
       "      <td>842</td>\n",
       "      <td>0</td>\n",
       "      <td>2.2</td>\n",
       "      <td>0</td>\n",
       "      <td>1</td>\n",
       "      <td>0</td>\n",
       "      <td>7</td>\n",
       "      <td>0.6</td>\n",
       "      <td>188</td>\n",
       "      <td>2</td>\n",
       "      <td>...</td>\n",
       "      <td>20</td>\n",
       "      <td>756</td>\n",
       "      <td>2549</td>\n",
       "      <td>9</td>\n",
       "      <td>7</td>\n",
       "      <td>19</td>\n",
       "      <td>0</td>\n",
       "      <td>0</td>\n",
       "      <td>1</td>\n",
       "      <td>0</td>\n",
       "    </tr>\n",
       "    <tr>\n",
       "      <th>1</th>\n",
       "      <td>1021</td>\n",
       "      <td>1</td>\n",
       "      <td>0.5</td>\n",
       "      <td>1</td>\n",
       "      <td>0</td>\n",
       "      <td>1</td>\n",
       "      <td>53</td>\n",
       "      <td>0.7</td>\n",
       "      <td>136</td>\n",
       "      <td>3</td>\n",
       "      <td>...</td>\n",
       "      <td>905</td>\n",
       "      <td>1988</td>\n",
       "      <td>2631</td>\n",
       "      <td>17</td>\n",
       "      <td>3</td>\n",
       "      <td>7</td>\n",
       "      <td>1</td>\n",
       "      <td>1</td>\n",
       "      <td>0</td>\n",
       "      <td>1</td>\n",
       "    </tr>\n",
       "    <tr>\n",
       "      <th>2</th>\n",
       "      <td>563</td>\n",
       "      <td>1</td>\n",
       "      <td>0.5</td>\n",
       "      <td>1</td>\n",
       "      <td>2</td>\n",
       "      <td>1</td>\n",
       "      <td>41</td>\n",
       "      <td>0.9</td>\n",
       "      <td>145</td>\n",
       "      <td>5</td>\n",
       "      <td>...</td>\n",
       "      <td>1263</td>\n",
       "      <td>1716</td>\n",
       "      <td>2603</td>\n",
       "      <td>11</td>\n",
       "      <td>2</td>\n",
       "      <td>9</td>\n",
       "      <td>1</td>\n",
       "      <td>1</td>\n",
       "      <td>0</td>\n",
       "      <td>1</td>\n",
       "    </tr>\n",
       "    <tr>\n",
       "      <th>3</th>\n",
       "      <td>615</td>\n",
       "      <td>1</td>\n",
       "      <td>2.5</td>\n",
       "      <td>0</td>\n",
       "      <td>0</td>\n",
       "      <td>0</td>\n",
       "      <td>10</td>\n",
       "      <td>0.8</td>\n",
       "      <td>131</td>\n",
       "      <td>6</td>\n",
       "      <td>...</td>\n",
       "      <td>1216</td>\n",
       "      <td>1786</td>\n",
       "      <td>2769</td>\n",
       "      <td>16</td>\n",
       "      <td>8</td>\n",
       "      <td>11</td>\n",
       "      <td>1</td>\n",
       "      <td>0</td>\n",
       "      <td>0</td>\n",
       "      <td>1</td>\n",
       "    </tr>\n",
       "    <tr>\n",
       "      <th>4</th>\n",
       "      <td>1821</td>\n",
       "      <td>1</td>\n",
       "      <td>1.2</td>\n",
       "      <td>0</td>\n",
       "      <td>13</td>\n",
       "      <td>1</td>\n",
       "      <td>44</td>\n",
       "      <td>0.6</td>\n",
       "      <td>141</td>\n",
       "      <td>2</td>\n",
       "      <td>...</td>\n",
       "      <td>1208</td>\n",
       "      <td>1212</td>\n",
       "      <td>1411</td>\n",
       "      <td>8</td>\n",
       "      <td>2</td>\n",
       "      <td>15</td>\n",
       "      <td>1</td>\n",
       "      <td>1</td>\n",
       "      <td>0</td>\n",
       "      <td>0</td>\n",
       "    </tr>\n",
       "  </tbody>\n",
       "</table>\n",
       "<p>5 rows × 21 columns</p>\n",
       "</div>"
      ],
      "text/plain": [
       "   battery_power  blue  clock_speed  dual_sim  fc  four_g  int_memory  m_dep  \\\n",
       "0            842     0          2.2         0   1       0           7    0.6   \n",
       "1           1021     1          0.5         1   0       1          53    0.7   \n",
       "2            563     1          0.5         1   2       1          41    0.9   \n",
       "3            615     1          2.5         0   0       0          10    0.8   \n",
       "4           1821     1          1.2         0  13       1          44    0.6   \n",
       "\n",
       "   mobile_wt  n_cores  ...  px_height  px_width   ram  sc_h  sc_w  talk_time  \\\n",
       "0        188        2  ...         20       756  2549     9     7         19   \n",
       "1        136        3  ...        905      1988  2631    17     3          7   \n",
       "2        145        5  ...       1263      1716  2603    11     2          9   \n",
       "3        131        6  ...       1216      1786  2769    16     8         11   \n",
       "4        141        2  ...       1208      1212  1411     8     2         15   \n",
       "\n",
       "   three_g  touch_screen  wifi  price_class  \n",
       "0        0             0     1            0  \n",
       "1        1             1     0            1  \n",
       "2        1             1     0            1  \n",
       "3        1             0     0            1  \n",
       "4        1             1     0            0  \n",
       "\n",
       "[5 rows x 21 columns]"
      ]
     },
     "execution_count": 25,
     "metadata": {},
     "output_type": "execute_result"
    }
   ],
   "source": [
    "data.head()"
   ]
  },
  {
   "cell_type": "markdown",
   "metadata": {},
   "source": [
    "## Langkah 1: Memeriksa missing values\n",
    "Dataset berisi 2000 baris dan 21 kolom tanpa missing values, karena semua kolom memiliki data yang lengkap."
   ]
  },
  {
   "cell_type": "code",
   "execution_count": 26,
   "metadata": {},
   "outputs": [
    {
     "name": "stdout",
     "output_type": "stream",
     "text": [
      "<class 'pandas.core.frame.DataFrame'>\n",
      "RangeIndex: 2000 entries, 0 to 1999\n",
      "Data columns (total 21 columns):\n",
      " #   Column         Non-Null Count  Dtype  \n",
      "---  ------         --------------  -----  \n",
      " 0   battery_power  2000 non-null   int64  \n",
      " 1   blue           2000 non-null   int64  \n",
      " 2   clock_speed    2000 non-null   float64\n",
      " 3   dual_sim       2000 non-null   int64  \n",
      " 4   fc             2000 non-null   int64  \n",
      " 5   four_g         2000 non-null   int64  \n",
      " 6   int_memory     2000 non-null   int64  \n",
      " 7   m_dep          2000 non-null   float64\n",
      " 8   mobile_wt      2000 non-null   int64  \n",
      " 9   n_cores        2000 non-null   int64  \n",
      " 10  pc             2000 non-null   int64  \n",
      " 11  px_height      2000 non-null   int64  \n",
      " 12  px_width       2000 non-null   int64  \n",
      " 13  ram            2000 non-null   int64  \n",
      " 14  sc_h           2000 non-null   int64  \n",
      " 15  sc_w           2000 non-null   int64  \n",
      " 16  talk_time      2000 non-null   int64  \n",
      " 17  three_g        2000 non-null   int64  \n",
      " 18  touch_screen   2000 non-null   int64  \n",
      " 19  wifi           2000 non-null   int64  \n",
      " 20  price_class    2000 non-null   int64  \n",
      "dtypes: float64(2), int64(19)\n",
      "memory usage: 328.3 KB\n"
     ]
    }
   ],
   "source": [
    "data.info()"
   ]
  },
  {
   "cell_type": "markdown",
   "metadata": {},
   "source": [
    "## Langkah 2: Persentase Ponsel dengan Bluetooth\n",
    "Selanjutnya, saya akan menghitung persentase ponsel yang memiliki fitur Bluetooth (warna biru adalah 1). "
   ]
  },
  {
   "cell_type": "code",
   "execution_count": 27,
   "metadata": {},
   "outputs": [
    {
     "data": {
      "text/plain": [
       "np.float64(49.5)"
      ]
     },
     "execution_count": 27,
     "metadata": {},
     "output_type": "execute_result"
    }
   ],
   "source": [
    "# Menghitung persentase ponsel dengan fitur Bluetooth \n",
    "bluetooth_percentage = (data['blue'].mean() * 100).round(2) \n",
    "bluetooth_percentage"
   ]
  },
  {
   "cell_type": "markdown",
   "metadata": {},
   "source": [
    "Sekitar **49,5%** ponsel dalam dataset ini memiliki fitur Bluetooth."
   ]
  },
  {
   "cell_type": "markdown",
   "metadata": {},
   "source": [
    "## Langkah 3: Memeriksa Data Balance dalam Kelas Harga\n",
    "Sekarang, saya akan menganalisis balancing antara kelas low-end (price_class = 0) dan high-end (price_class = 1) dalam set data yang kemudian divisualisasikan dengan menggunakan diagram batang untuk mengamati distribusinya"
   ]
  },
  {
   "cell_type": "code",
   "execution_count": 28,
   "metadata": {},
   "outputs": [
    {
     "name": "stderr",
     "output_type": "stream",
     "text": [
      "C:\\Users\\hp\\AppData\\Local\\Temp\\ipykernel_11048\\216937854.py:7: FutureWarning: \n",
      "\n",
      "Passing `palette` without assigning `hue` is deprecated and will be removed in v0.14.0. Assign the `x` variable to `hue` and set `legend=False` for the same effect.\n",
      "\n",
      "  sns.countplot(x='price_class', data=data, palette=\"viridis\")\n"
     ]
    },
    {
     "data": {
      "image/png": "[encoded data removed]",
      "text/plain": [
       "<Figure size 800x500 with 1 Axes>"
      ]
     },
     "metadata": {},
     "output_type": "display_data"
    },
    {
     "data": {
      "text/plain": [
       "price_class\n",
       "0    50.0\n",
       "1    50.0\n",
       "Name: proportion, dtype: float64"
      ]
     },
     "execution_count": 28,
     "metadata": {},
     "output_type": "execute_result"
    }
   ],
   "source": [
    "import matplotlib.pyplot as plt\n",
    "import seaborn as sns\n",
    "\n",
    "sns.set(style=\"whitegrid\")\n",
    "\n",
    "plt.figure(figsize=(8, 5))\n",
    "sns.countplot(x='price_class', data=data, palette=\"viridis\")\n",
    "plt.title('Distribution of Price Class (0 = Low-End, 1 = High-End)')\n",
    "plt.xlabel('Price Class')\n",
    "plt.ylabel('Count')\n",
    "plt.xticks(ticks=[0, 1], labels=['Low-End', 'High-End'])\n",
    "plt.show()\n",
    "\n",
    "class_distribution = data['price_class'].value_counts(normalize=True) * 100\n",
    "class_distribution\n"
   ]
  },
  {
   "cell_type": "markdown",
   "metadata": {},
   "source": [
    "dari hasil yang didapatkan menunjukan bahwa dataset ini sangat seimbang antara dua kelas, dengan **50%** ponsel diklasifikasikan sebagai ponselkelas bawah `(price_class = 0)` dan 50% ponsel kelas atas `(price_class = 1)`."
   ]
  },
  {
   "cell_type": "markdown",
   "metadata": {},
   "source": [
    "## Langkah 4: Pengelompokan K-Means\n",
    "Sekarang, saya akan melakukan pengelompokan K-means pada dataset untuk mengidentifikasi kelompok dengan fitur yang sama, setelah itu saya akan menganalisis dan memberi label pada cluster berdasarkan karakteristiknya. "
   ]
  },
  {
   "cell_type": "code",
   "execution_count": 29,
   "metadata": {},
   "outputs": [
    {
     "data": {
      "image/png": "[encoded data removed]",
      "text/plain": [
       "<Figure size 800x500 with 1 Axes>"
      ]
     },
     "metadata": {},
     "output_type": "display_data"
    }
   ],
   "source": [
    "from sklearn.cluster import KMeans\n",
    "from sklearn.preprocessing import StandardScaler\n",
    "\n",
    "features = data.drop(columns=['price_class'])\n",
    "\n",
    "scaler = StandardScaler()\n",
    "features_scaled = scaler.fit_transform(features)\n",
    "\n",
    "inertia = []\n",
    "cluster_range = range(1, 11)\n",
    "\n",
    "for k in cluster_range:\n",
    "    kmeans = KMeans(n_clusters=k, random_state=42)\n",
    "    kmeans.fit(features_scaled)\n",
    "    inertia.append(kmeans.inertia_)\n",
    "\n",
    "plt.figure(figsize=(8, 5))\n",
    "plt.plot(cluster_range, inertia, marker='o', linestyle='-')\n",
    "plt.xlabel('Number of Clusters')\n",
    "plt.ylabel('Inertia')\n",
    "plt.title('Metode Elbow untuk Optimal Number of Clusters')\n",
    "plt.xticks(cluster_range)\n",
    "plt.show()\n"
   ]
  },
  {
   "cell_type": "code",
   "execution_count": 32,
   "metadata": {},
   "outputs": [],
   "source": [
    "optimal_k = 4\n",
    "kmeans = KMeans(n_clusters=optimal_k, random_state=42)\n",
    "clusters = kmeans.fit_predict(features_scaled)\n",
    "data['Cluster'] = clusters"
   ]
  },
  {
   "cell_type": "code",
   "execution_count": 33,
   "metadata": {},
   "outputs": [
    {
     "name": "stdout",
     "output_type": "stream",
     "text": [
      "         battery_power      blue  clock_speed  dual_sim        fc    four_g  \\\n",
      "Cluster                                                                       \n",
      "0          1226.239407  0.523305     1.581356  0.521186  4.194915  0.000000   \n",
      "1          1257.015021  0.506438     1.564807  0.467811  9.547210  0.669528   \n",
      "2          1214.749398  0.484337     1.394699  0.481928  2.368675  0.715663   \n",
      "3          1249.400309  0.472952     1.530294  0.548686  1.865533  0.670788   \n",
      "\n",
      "         int_memory     m_dep   mobile_wt   n_cores  ...    px_height  \\\n",
      "Cluster                                              ...                \n",
      "0         32.491525  0.509958  140.082627  4.580508  ...   665.476695   \n",
      "1         28.476395  0.506223  143.547210  4.405579  ...   580.206009   \n",
      "2         32.997590  0.506265  140.773494  4.812048  ...  1050.320482   \n",
      "3         33.683153  0.489645  137.658423  4.372488  ...   417.081917   \n",
      "\n",
      "            px_width          ram       sc_h      sc_w  talk_time   three_g  \\\n",
      "Cluster                                                                       \n",
      "0        1248.813559  2091.311441  12.201271  5.495763  11.438559  0.000000   \n",
      "1        1203.478541  2188.409871  12.216738  5.579399  11.257511  0.991416   \n",
      "2        1622.816867  2163.995181  14.489157  8.134940  10.383133  0.997590   \n",
      "3        1049.924266  2076.460587  11.047913  4.581144  10.924266  1.000000   \n",
      "\n",
      "         touch_screen      wifi  price_class  \n",
      "Cluster                                       \n",
      "0            0.487288  0.502119     0.476695  \n",
      "1            0.515021  0.510730     0.527897  \n",
      "2            0.539759  0.636145     0.568675  \n",
      "3            0.482226  0.425039     0.452859  \n",
      "\n",
      "[4 rows x 21 columns]\n"
     ]
    }
   ],
   "source": [
    "cluster_summary = data.groupby('Cluster').mean()\n",
    "print(cluster_summary)"
   ]
  },
  {
   "cell_type": "markdown",
   "metadata": {},
   "source": [
    "# Kesimpulan\n",
    "\n",
    "### 1) Apakah ada nilai yang hilang dalam dataset?\n",
    "Tidak ada nilai yang hilang dalam dataset ini. Semua 21 fitur memiliki data lengkap untuk masing-masing dari 2000 entri, sehingga tidak diperlukan imputasi atau pembersihan data.\n",
    "\n",
    "### 2) Berapa persentase ponsel yang memiliki fitur Bluetooth?\n",
    "Sekitar **49,5%** ponsel dalam dataset ini memiliki fitur Bluetooth. Persentase ini dihitung dengan mencari proporsi entri di mana fitur `blue` bernilai 1 (menunjukkan keberadaan Bluetooth).\n",
    "\n",
    "### 3) Apakah data seimbang atau tidak seimbang dalam hal kelas harga?\n",
    "Data ini seimbang sempurna antara dua kelas. Variabel target `price_class`, yang menunjukkan apakah ponsel termasuk kelas bawah (0) atau kelas atas (1), memiliki pembagian yang sama:\n",
    "   - **50%** ponsel termasuk kelas bawah.\n",
    "   - **50%** termasuk kelas atas.\n",
    "\n",
    "### 4) Pengelompokan menggunakan K-means: Jumlah grup, karakteristik, dan label\n",
    "Setelah menerapkan Metode Elbow untuk K-means, ditemukan jumlah klaster yang optimal adalah 4. Setiap klaster kemudian dianalisis berdasarkan nilai rata-rata dari setiap fitur, menghasilkan interpretasi sebagai berikut:\n",
    "- **Klaster 0**: \"Perangkat Fitur Tinggi Kelas Atas\"  \n",
    "   - Memiliki RAM yang tinggi, ukuran layar besar, resolusi tinggi, serta kapasitas baterai yang besar. Klaster ini menggambarkan ponsel dengan spesifikasi canggih, cocok untuk pengguna yang mencari performa dan fitur premium.\n",
    "\n",
    "- **Klaster 1**: \"Perangkat Dasar dan Ramah Anggaran\"  \n",
    "   - Memiliki RAM rendah, layar kecil, resolusi kamera rendah, dan umumnya kekurangan fitur-fitur canggih seperti 4G. Ini menunjukkan perangkat yang lebih terjangkau dan cocok untuk pengguna dengan kebutuhan dasar.\n",
    "\n",
    "- **Klaster 2**: \"Perangkat Menengah dengan Fitur Seimbang\"  \n",
    "   - Memiliki spesifikasi yang sedang pada sebagian besar fitur, dengan RAM dan kapasitas baterai yang cukup baik, serta mendukung beberapa fitur canggih seperti 4G. Klaster ini menggambarkan perangkat kelas menengah yang menawarkan keseimbangan antara kinerja dan harga.\n",
    "\n",
    "- **Klaster 3**: \"Perangkat Kelas Atas Berfokus pada Kamera\"  \n",
    "   - Klaster ini memiliki fokus pada fitur kamera, dengan resolusi kamera utama dan depan yang tinggi, serta RAM yang cukup besar. Ponsel di klaster ini cocok bagi pengguna yang mencari ponsel dengan kamera berkualitas tinggi, meskipun spesifikasi lainnya mungkin tidak sekuat perangkat di Klaster 0."
   ]
  }
 ],
 "metadata": {
  "kernelspec": {
   "display_name": "Python 3",
   "language": "python",
   "name": "python3"
  },
  "language_info": {
   "codemirror_mode": {
    "name": "ipython",
    "version": 3
   },
   "file_extension": ".py",
   "mimetype": "text/x-python",
   "name": "python",
   "nbconvert_exporter": "python",
   "pygments_lexer": "ipython3",
   "version": "3.13.0"
  }
 },
 "nbformat": 4,
 "nbformat_minor": 2
}
